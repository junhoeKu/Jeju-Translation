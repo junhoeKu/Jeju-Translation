{
  "cells": [
    {
      "cell_type": "code",
      "execution_count": null,
      "id": "985571a5",
      "metadata": {
        "id": "985571a5",
        "outputId": "e7051c14-a7b0-4782-dc90-07c24b1989ad"
      },
      "outputs": [
        {
          "name": "stdout",
          "output_type": "stream",
          "text": [
            "Collecting jamo\n",
            "  Downloading jamo-0.4.1-py3-none-any.whl (9.5 kB)\n",
            "Installing collected packages: jamo\n",
            "Successfully installed jamo-0.4.1\n"
          ]
        }
      ],
      "source": [
        "!pip install jamo"
      ]
    },
    {
      "cell_type": "code",
      "execution_count": null,
      "id": "d680bcf0",
      "metadata": {
        "id": "d680bcf0",
        "outputId": "bb9793a5-cbf9-40e1-887a-128d2ee158aa"
      },
      "outputs": [
        {
          "name": "stdout",
          "output_type": "stream",
          "text": [
            "Requirement already satisfied: hangul-utils in c:\\users\\82104\\miniconda3\\lib\\site-packages (0.2)\n"
          ]
        }
      ],
      "source": [
        "!pip install hangul-utils"
      ]
    },
    {
      "cell_type": "code",
      "execution_count": null,
      "id": "39814122",
      "metadata": {
        "id": "39814122",
        "outputId": "d32af4b1-51a5-4260-9a50-009af4662703"
      },
      "outputs": [
        {
          "data": {
            "text/html": [
              "<div>\n",
              "<style scoped>\n",
              "    .dataframe tbody tr th:only-of-type {\n",
              "        vertical-align: middle;\n",
              "    }\n",
              "\n",
              "    .dataframe tbody tr th {\n",
              "        vertical-align: top;\n",
              "    }\n",
              "\n",
              "    .dataframe thead th {\n",
              "        text-align: right;\n",
              "    }\n",
              "</style>\n",
              "<table border=\"1\" class=\"dataframe\">\n",
              "  <thead>\n",
              "    <tr style=\"text-align: right;\">\n",
              "      <th></th>\n",
              "      <th>0</th>\n",
              "    </tr>\n",
              "  </thead>\n",
              "  <tbody>\n",
              "    <tr>\n",
              "      <th>0</th>\n",
              "      <td>판관헤난 거 ?</td>\n",
              "    </tr>\n",
              "    <tr>\n",
              "      <th>1</th>\n",
              "      <td>우리 그냥 맨손에 맨손에 검질도 메고 , 검질도 비고 . 경헤난 , 옛날은 .</td>\n",
              "    </tr>\n",
              "    <tr>\n",
              "      <th>2</th>\n",
              "      <td>에 .</td>\n",
              "    </tr>\n",
              "    <tr>\n",
              "      <th>3</th>\n",
              "      <td>응 , 거니까 .</td>\n",
              "    </tr>\n",
              "    <tr>\n",
              "      <th>4</th>\n",
              "      <td>운영헤 오다가 .</td>\n",
              "    </tr>\n",
              "    <tr>\n",
              "      <th>...</th>\n",
              "      <td>...</td>\n",
              "    </tr>\n",
              "    <tr>\n",
              "      <th>160351</th>\n",
              "      <td>예 . 옛날에는 저기 무슨 마을접이엔 헤가지고 , 뭐 상여접도 잇어나곡 뭐 계 .</td>\n",
              "    </tr>\n",
              "    <tr>\n",
              "      <th>160352</th>\n",
              "      <td>ᄄᆞᆷ떼기 ?</td>\n",
              "    </tr>\n",
              "    <tr>\n",
              "      <th>160353</th>\n",
              "      <td>이 선흘에 . 우리 살아난 집 이제 ᄄᆞᆫ 사름 살암저마는 , 우리 친정에 살아난 .</td>\n",
              "    </tr>\n",
              "    <tr>\n",
              "      <th>160354</th>\n",
              "      <td>구신 우러근에 옛날 어른덜 주지 창 그디 더꺼근에 이 제ᄉᆞ 때나 무시거 때랑 그디...</td>\n",
              "    </tr>\n",
              "    <tr>\n",
              "      <th>160355</th>\n",
              "      <td>게민 고추장은 안 담강 먹엇수과 ?</td>\n",
              "    </tr>\n",
              "  </tbody>\n",
              "</table>\n",
              "<p>160356 rows × 1 columns</p>\n",
              "</div>"
            ],
            "text/plain": [
              "                                                        0\n",
              "0                                                판관헤난 거 ?\n",
              "1             우리 그냥 맨손에 맨손에 검질도 메고 , 검질도 비고 . 경헤난 , 옛날은 .\n",
              "2                                                     에 .\n",
              "3                                               응 , 거니까 .\n",
              "4                                               운영헤 오다가 .\n",
              "...                                                   ...\n",
              "160351      예 . 옛날에는 저기 무슨 마을접이엔 헤가지고 , 뭐 상여접도 잇어나곡 뭐 계 .\n",
              "160352                                            ᄄᆞᆷ떼기 ?\n",
              "160353    이 선흘에 . 우리 살아난 집 이제 ᄄᆞᆫ 사름 살암저마는 , 우리 친정에 살아난 .\n",
              "160354  구신 우러근에 옛날 어른덜 주지 창 그디 더꺼근에 이 제ᄉᆞ 때나 무시거 때랑 그디...\n",
              "160355                                게민 고추장은 안 담강 먹엇수과 ?\n",
              "\n",
              "[160356 rows x 1 columns]"
            ]
          },
          "execution_count": 2,
          "metadata": {},
          "output_type": "execute_result"
        }
      ],
      "source": [
        "import pandas as pd\n",
        "\n",
        "je_train = pd.read_table('je.train',header=None)\n",
        "ko_train = pd.read_table('ko.train',header=None)\n",
        "\n",
        "je_test = pd.read_table('je.test',header=None)\n",
        "ko_test = pd.read_table('ko.test',header=None)\n",
        "\n",
        "je_dev = pd.read_table('je.dev',header=None)\n",
        "ko_dev = pd.read_table('ko.dev',header=None)\n",
        "\n",
        "je_conv_train = pd.read_table('je_converted.train',header=None)"
      ]
    },
    {
      "cell_type": "code",
      "execution_count": null,
      "id": "de621e72",
      "metadata": {
        "id": "de621e72",
        "outputId": "95082219-3b2d-4f3f-fa22-e1868dbc6994",
        "scrolled": true
      },
      "outputs": [
        {
          "data": {
            "text/html": [
              "<div>\n",
              "<style scoped>\n",
              "    .dataframe tbody tr th:only-of-type {\n",
              "        vertical-align: middle;\n",
              "    }\n",
              "\n",
              "    .dataframe tbody tr th {\n",
              "        vertical-align: top;\n",
              "    }\n",
              "\n",
              "    .dataframe thead th {\n",
              "        text-align: right;\n",
              "    }\n",
              "</style>\n",
              "<table border=\"1\" class=\"dataframe\">\n",
              "  <thead>\n",
              "    <tr style=\"text-align: right;\">\n",
              "      <th></th>\n",
              "      <th>0</th>\n",
              "    </tr>\n",
              "  </thead>\n",
              "  <tbody>\n",
              "    <tr>\n",
              "      <th>5</th>\n",
              "      <td>에 , 산듸 , 아 요는 뭐이던지 복잡허게 나면은 우 ᄃᆞ탕은에 뒈들 아녀 .</td>\n",
              "    </tr>\n",
              "    <tr>\n",
              "      <th>15</th>\n",
              "      <td>대게 보민 조기광 생성 그런 거 국 끌리주 . 다른 건 몰라 , 나 원 . 다른 궤...</td>\n",
              "    </tr>\n",
              "    <tr>\n",
              "      <th>17</th>\n",
              "      <td>야 , ᄂᆞᆯ 낭 탈 때ᄁᆞ지 .</td>\n",
              "    </tr>\n",
              "    <tr>\n",
              "      <th>18</th>\n",
              "      <td>이젠 파짐치 , ᄒᆞ꼼 허민 요만이만 커가민 막 캐당 , 걸 . 맛은 잇주게 어린 ...</td>\n",
              "    </tr>\n",
              "    <tr>\n",
              "      <th>19</th>\n",
              "      <td>원 너무 밧이 궂이니까 조가 안 뒈여 . 안 되민 그 ᄀᆞ랑조를 ᄇᆞᆯ리면은 좀 뒈...</td>\n",
              "    </tr>\n",
              "    <tr>\n",
              "      <th>...</th>\n",
              "      <td>...</td>\n",
              "    </tr>\n",
              "    <tr>\n",
              "      <th>160339</th>\n",
              "      <td>그 조칲 , 피짚들은 여기 축산농가들 잇당 ᄃᆞ렌 허민 줘불고 .</td>\n",
              "    </tr>\n",
              "    <tr>\n",
              "      <th>160349</th>\n",
              "      <td>ᄐᆞᆮ곡 다시 젠젠헌 건 보리 두드리듯 두드리고 . 성읍리레 하영 허주 경허민 그걸...</td>\n",
              "    </tr>\n",
              "    <tr>\n",
              "      <th>160352</th>\n",
              "      <td>ᄄᆞᆷ떼기 ?</td>\n",
              "    </tr>\n",
              "    <tr>\n",
              "      <th>160353</th>\n",
              "      <td>이 선흘에 . 우리 살아난 집 이제 ᄄᆞᆫ 사름 살암저마는 , 우리 친정에 살아난 .</td>\n",
              "    </tr>\n",
              "    <tr>\n",
              "      <th>160354</th>\n",
              "      <td>구신 우러근에 옛날 어른덜 주지 창 그디 더꺼근에 이 제ᄉᆞ 때나 무시거 때랑 그디...</td>\n",
              "    </tr>\n",
              "  </tbody>\n",
              "</table>\n",
              "<p>36358 rows × 1 columns</p>\n",
              "</div>"
            ],
            "text/plain": [
              "                                                        0\n",
              "5             에 , 산듸 , 아 요는 뭐이던지 복잡허게 나면은 우 ᄃᆞ탕은에 뒈들 아녀 .\n",
              "15      대게 보민 조기광 생성 그런 거 국 끌리주 . 다른 건 몰라 , 나 원 . 다른 궤...\n",
              "17                                     야 , ᄂᆞᆯ 낭 탈 때ᄁᆞ지 .\n",
              "18      이젠 파짐치 , ᄒᆞ꼼 허민 요만이만 커가민 막 캐당 , 걸 . 맛은 잇주게 어린 ...\n",
              "19      원 너무 밧이 궂이니까 조가 안 뒈여 . 안 되민 그 ᄀᆞ랑조를 ᄇᆞᆯ리면은 좀 뒈...\n",
              "...                                                   ...\n",
              "160339               그 조칲 , 피짚들은 여기 축산농가들 잇당 ᄃᆞ렌 허민 줘불고 .\n",
              "160349  ᄐᆞᆮ곡 다시 젠젠헌 건 보리 두드리듯 두드리고 . 성읍리레 하영 허주 경허민 그걸...\n",
              "160352                                            ᄄᆞᆷ떼기 ?\n",
              "160353    이 선흘에 . 우리 살아난 집 이제 ᄄᆞᆫ 사름 살암저마는 , 우리 친정에 살아난 .\n",
              "160354  구신 우러근에 옛날 어른덜 주지 창 그디 더꺼근에 이 제ᄉᆞ 때나 무시거 때랑 그디...\n",
              "\n",
              "[36358 rows x 1 columns]"
            ]
          },
          "execution_count": 6,
          "metadata": {},
          "output_type": "execute_result"
        }
      ],
      "source": [
        "# 아래아가 포함된 행을 찾는 함수\n",
        "def contains_arae_a(text):\n",
        "    return 'ᆞ' in text or 'ᆢ' in text or 'ᆡ' in text\n",
        "def contains_arae_a1(text):\n",
        "    return 'ᆞ' in text\n",
        "def contains_arae_a2(text):\n",
        "    return 'ᆢ' in text\n",
        "def contains_arae_a3(text):\n",
        "    return 'ᆡ' in text\n",
        "\n",
        "# 아래아가 포함된 행을 필터링\n",
        "rows_with_arae_a = je_train[je_train[0].apply(contains_arae_a)]\n",
        "rows_with_arae_a1 = je_train[je_train[0].apply(contains_arae_a1)]\n",
        "rows_with_arae_a2 = je_train[je_train[0].apply(contains_arae_a2)]\n",
        "rows_with_arae_a3 = je_train[je_train[0].apply(contains_arae_a3)]"
      ]
    },
    {
      "cell_type": "code",
      "execution_count": null,
      "id": "9bd3e0cd",
      "metadata": {},
      "outputs": [],
      "source": [
        "# 아래아가 포함된 행들을 출력\n",
        "rows_with_arae_a"
      ]
    },
    {
      "cell_type": "code",
      "execution_count": null,
      "id": "95b4dfe9",
      "metadata": {
        "id": "95b4dfe9"
      },
      "outputs": [],
      "source": [
        "import unicodedata\n",
        "\n",
        "\n",
        "def convert_arae_a_to_period(text):\n",
        "    # 아래아를 온점으로 변환\n",
        "    return text.replace('ᆞ', 'ㅗ').replace('ᆢ', 'ㅕ').replace('ᆡ', 'ㅐ')\n",
        "\n",
        "# 각 행에 대해 변환 적용\n",
        "je_train_converted = je_train.applymap(lambda x: convert_arae_a_to_period(x) if 'ᆞ' in x or 'ᆢ' in x or 'ᆡ' in x else x)\n",
        "je_test_converted = je_test.applymap(lambda x: convert_arae_a_to_period(x) if 'ᆞ' in x or 'ᆢ' in x or 'ᆡ' in x else x)\n",
        "je_dev_converted = je_dev.applymap(lambda x: convert_arae_a_to_period(x) if 'ᆞ' in x or 'ᆢ' in x or 'ᆡ' in x else x)\n",
        "\n",
        "\n",
        "def normalize_string(s):\n",
        "    if isinstance(s, str):\n",
        "        return unicodedata.normalize('NFKC', s)\n",
        "    return s\n",
        "\n",
        "# 데이터프레임의 모든 요소에 정규화 함수 적용\n",
        "je_convert_train = je_train_converted.applymap(normalize_string)\n",
        "je_convert_test = je_test_converted.applymap(normalize_string)\n",
        "je_convert_dev = je_dev_converted.applymap(normalize_string)"
      ]
    },
    {
      "cell_type": "code",
      "execution_count": 4,
      "id": "1yQHBIK0Gzxh",
      "metadata": {
        "colab": {
          "base_uri": "https://localhost:8080/",
          "height": 36
        },
        "id": "1yQHBIK0Gzxh",
        "outputId": "54bdf719-3d7b-4ca0-9010-02d51b35124e"
      },
      "outputs": [
        {
          "data": {
            "application/vnd.google.colaboratory.intrinsic+json": {
              "type": "string"
            },
            "text/plain": [
              "'ᄄㅗᆷ떼기 ?'"
            ]
          },
          "execution_count": 4,
          "metadata": {},
          "output_type": "execute_result"
        }
      ],
      "source": [
        "def convert_arae_a_to_period(text):\n",
        "    # 아래아를 온점으로 변환\n",
        "    return text.replace('ᆞ', 'ㅗ').replace('ᆢ', 'ㅕ').replace('ᆡ', 'ㅐ')\n",
        "\n",
        "a = 'ᄄᆞᆷ떼기 ?'\n",
        "convert_arae_a_to_period(a)"
      ]
    },
    {
      "cell_type": "code",
      "execution_count": 6,
      "id": "N2kb5R6FIEdC",
      "metadata": {
        "colab": {
          "base_uri": "https://localhost:8080/"
        },
        "id": "N2kb5R6FIEdC",
        "outputId": "2db15798-eb83-486a-df62-4478512e7270"
      },
      "outputs": [
        {
          "name": "stdout",
          "output_type": "stream",
          "text": [
            "똠떼기 ?\n"
          ]
        }
      ],
      "source": [
        "print('똠떼기 ?')"
      ]
    },
    {
      "cell_type": "code",
      "execution_count": null,
      "id": "bcb889c6",
      "metadata": {
        "id": "bcb889c6"
      },
      "outputs": [],
      "source": [
        "je = pd.concat([je_convert_train,je_convert_test,je_convert_dev])\n",
        "ko = pd.concat([ko_train, ko_test, ko_dev])"
      ]
    },
    {
      "cell_type": "code",
      "execution_count": null,
      "id": "561b02de",
      "metadata": {
        "id": "561b02de",
        "outputId": "7ad1bfa0-27bf-4a5b-a875-031ad40c43bc"
      },
      "outputs": [
        {
          "data": {
            "text/html": [
              "<div>\n",
              "<style scoped>\n",
              "    .dataframe tbody tr th:only-of-type {\n",
              "        vertical-align: middle;\n",
              "    }\n",
              "\n",
              "    .dataframe tbody tr th {\n",
              "        vertical-align: top;\n",
              "    }\n",
              "\n",
              "    .dataframe thead th {\n",
              "        text-align: right;\n",
              "    }\n",
              "</style>\n",
              "<table border=\"1\" class=\"dataframe\">\n",
              "  <thead>\n",
              "    <tr style=\"text-align: right;\">\n",
              "      <th></th>\n",
              "      <th>je</th>\n",
              "      <th>ko</th>\n",
              "    </tr>\n",
              "  </thead>\n",
              "  <tbody>\n",
              "    <tr>\n",
              "      <th>0</th>\n",
              "      <td>판관헤난 거 ?</td>\n",
              "      <td>판관했던 거 ?</td>\n",
              "    </tr>\n",
              "    <tr>\n",
              "      <th>1</th>\n",
              "      <td>우리 그냥 맨손에 맨손에 검질도 메고 , 검질도 비고 . 경헤난 , 옛날은 .</td>\n",
              "      <td>우리 그냥 맨손에 맨손에 김도 매고 , 김도 베고 . 그렇게 했었어 , 옛날은 .</td>\n",
              "    </tr>\n",
              "    <tr>\n",
              "      <th>2</th>\n",
              "      <td>에 .</td>\n",
              "      <td>예 .</td>\n",
              "    </tr>\n",
              "    <tr>\n",
              "      <th>3</th>\n",
              "      <td>응 , 거니까 .</td>\n",
              "      <td>응 , 그러니까 .</td>\n",
              "    </tr>\n",
              "    <tr>\n",
              "      <th>4</th>\n",
              "      <td>운영헤 오다가 .</td>\n",
              "      <td>운영해 오다가 .</td>\n",
              "    </tr>\n",
              "    <tr>\n",
              "      <th>...</th>\n",
              "      <td>...</td>\n",
              "      <td>...</td>\n",
              "    </tr>\n",
              "    <tr>\n",
              "      <th>4995</th>\n",
              "      <td>누게 아느냐 ? 게난 거 다섯 상제 , 아덜 다섯 개민 다섯 개 다 헤낫어 옛날</td>\n",
              "      <td>누가 아니 ? 그러니까 다섯 상제 , 아들 다섯 개면 다섯 개 다 했었어 , 옛날 .</td>\n",
              "    </tr>\n",
              "    <tr>\n",
              "      <th>4996</th>\n",
              "      <td>게메이 . 경허연 영영 허연 요망썩 요망썩 걸름을 헤영 그디 씨들어강 거 영 방 벌...</td>\n",
              "      <td>글쎄 . 그렇게 해서 이렇게 이렇게 해서 이만씩 이만씩 거름을 해서 거기 씨 들어간...</td>\n",
              "    </tr>\n",
              "    <tr>\n",
              "      <th>4997</th>\n",
              "      <td>영 열아근에 막 남죽으로 그냥 거 젓젠 허민 얼마나 힘들카부덴 .</td>\n",
              "      <td>이렇게 열어서 막 죽젓개로 그냥 거 저으려고 하면 얼마나 힘들까봐 .</td>\n",
              "    </tr>\n",
              "    <tr>\n",
              "      <th>4998</th>\n",
              "      <td>밧 갈 때 밧 갈레 가젠 하면은 .</td>\n",
              "      <td>밭 갈 때 밭 갈러 가려고 하면 .</td>\n",
              "    </tr>\n",
              "    <tr>\n",
              "      <th>4999</th>\n",
              "      <td>게민 산이곡 오름이곡 붙어 자칩주 .</td>\n",
              "      <td>그럼 산이고 오름이고 붙어 젖히 지</td>\n",
              "    </tr>\n",
              "  </tbody>\n",
              "</table>\n",
              "<p>170356 rows × 2 columns</p>\n",
              "</div>"
            ],
            "text/plain": [
              "                                                     je  \\\n",
              "0                                              판관헤난 거 ?   \n",
              "1           우리 그냥 맨손에 맨손에 검질도 메고 , 검질도 비고 . 경헤난 , 옛날은 .   \n",
              "2                                                   에 .   \n",
              "3                                             응 , 거니까 .   \n",
              "4                                             운영헤 오다가 .   \n",
              "...                                                 ...   \n",
              "4995       누게 아느냐 ? 게난 거 다섯 상제 , 아덜 다섯 개민 다섯 개 다 헤낫어 옛날   \n",
              "4996  게메이 . 경허연 영영 허연 요망썩 요망썩 걸름을 헤영 그디 씨들어강 거 영 방 벌...   \n",
              "4997               영 열아근에 막 남죽으로 그냥 거 젓젠 허민 얼마나 힘들카부덴 .   \n",
              "4998                                밧 갈 때 밧 갈레 가젠 하면은 .   \n",
              "4999                               게민 산이곡 오름이곡 붙어 자칩주 .   \n",
              "\n",
              "                                                     ko  \n",
              "0                                              판관했던 거 ?  \n",
              "1         우리 그냥 맨손에 맨손에 김도 매고 , 김도 베고 . 그렇게 했었어 , 옛날은 .  \n",
              "2                                                   예 .  \n",
              "3                                            응 , 그러니까 .  \n",
              "4                                             운영해 오다가 .  \n",
              "...                                                 ...  \n",
              "4995    누가 아니 ? 그러니까 다섯 상제 , 아들 다섯 개면 다섯 개 다 했었어 , 옛날 .  \n",
              "4996  글쎄 . 그렇게 해서 이렇게 이렇게 해서 이만씩 이만씩 거름을 해서 거기 씨 들어간...  \n",
              "4997             이렇게 열어서 막 죽젓개로 그냥 거 저으려고 하면 얼마나 힘들까봐 .  \n",
              "4998                                밭 갈 때 밭 갈러 가려고 하면 .  \n",
              "4999                                그럼 산이고 오름이고 붙어 젖히 지  \n",
              "\n",
              "[170356 rows x 2 columns]"
            ]
          },
          "execution_count": 17,
          "metadata": {},
          "output_type": "execute_result"
        }
      ],
      "source": [
        "df_je_ko = pd.DataFrame()\n",
        "df_je_ko['je'] = je\n",
        "df_je_ko['ko'] = ko\n",
        "df_je_ko"
      ]
    },
    {
      "cell_type": "code",
      "execution_count": null,
      "id": "ba3a5c49",
      "metadata": {
        "id": "ba3a5c49"
      },
      "outputs": [],
      "source": [
        "df_je_ko.to_csv(\"df_je_ko.csv\", sep='\\t', header=False, index=False, encoding='utf-8')"
      ]
    }
  ],
  "metadata": {
    "colab": {
      "provenance": []
    },
    "kernelspec": {
      "display_name": "Python 3 (ipykernel)",
      "language": "python",
      "name": "python3"
    },
    "language_info": {
      "codemirror_mode": {
        "name": "ipython",
        "version": 3
      },
      "file_extension": ".py",
      "mimetype": "text/x-python",
      "name": "python",
      "nbconvert_exporter": "python",
      "pygments_lexer": "ipython3",
      "version": "3.8.13"
    }
  },
 
  "nbformat": 4,
  "nbformat_minor": 5
}
